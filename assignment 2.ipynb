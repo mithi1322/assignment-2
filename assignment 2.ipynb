{
 "cells": [
  {
   "cell_type": "markdown",
   "id": "856d3622-c0c1-4dda-9771-dd4e69f50b91",
   "metadata": {},
   "source": [
    "Q1. Which keyword is used to create a function? Create a function to return a list of odd numbers in the \n",
    "range of 1 to 25."
   ]
  },
  {
   "cell_type": "code",
   "execution_count": 5,
   "id": "dc8840bc-a106-4fa3-92ea-9f98935192f2",
   "metadata": {},
   "outputs": [
    {
     "name": "stdout",
     "output_type": "stream",
     "text": [
      "<class 'list'>\n"
     ]
    },
    {
     "data": {
      "text/plain": [
       "[1, 3, 5, 7, 9, 11, 13, 15, 17, 19, 21, 23, 25]"
      ]
     },
     "execution_count": 5,
     "metadata": {},
     "output_type": "execute_result"
    }
   ],
   "source": [
    "# The def keyword is used to create a function in python language.\n",
    "\n",
    "def odd_number():\n",
    "    l=list()\n",
    "    for i in range(26):\n",
    "        if i%2!=0:\n",
    "            l.append(i)\n",
    "    print(type(l))\n",
    "    return l\n",
    "\n",
    "odd_number() "
   ]
  },
  {
   "cell_type": "markdown",
   "id": "e115770c-c388-4fcd-ae98-508ab65faf85",
   "metadata": {},
   "source": [
    "Q2. Why *args and **kwargs is used in some functions? Create a function each for *args and **kwargs \n",
    "to demonstrate their use."
   ]
  },
  {
   "cell_type": "code",
   "execution_count": 6,
   "id": "45a9f923-f035-444b-83cb-5b3d82293f9c",
   "metadata": {},
   "outputs": [
    {
     "name": "stdout",
     "output_type": "stream",
     "text": [
      "Sum = 6\n",
      "Sum = 22\n"
     ]
    }
   ],
   "source": [
    "#We use *args and **kwargs as an argument when we are unsure about the number of arguments to pass in the functions.\n",
    "\n",
    "# *args using function\n",
    "def add(*args):\n",
    "    sum = 0\n",
    "    for i in args:\n",
    "        sum = sum+i\n",
    "    print(\"Sum =\",sum)\n",
    "\n",
    "add(1,3,2)\n",
    "add(4,5,6,7)\n"
   ]
  },
  {
   "cell_type": "code",
   "execution_count": 7,
   "id": "fb3c6795-9c82-4efa-9154-51d308f8004f",
   "metadata": {},
   "outputs": [
    {
     "name": "stdout",
     "output_type": "stream",
     "text": [
      "name is Mithilesh\n",
      "middle_name is Kumar\n",
      "last_nmae is Jaiswal\n",
      "Ph_No is 9118xxxx22\n"
     ]
    }
   ],
   "source": [
    "# **args using function\n",
    "\n",
    "def introduction(**kwargs):\n",
    "\tfor key, value in kwargs.items():\n",
    "\t\tprint(\"{} is {}\".format(key, value))\n",
    "        \n",
    "introduction(name='Mithilesh', middle_name='Kumar', last_nmae='Jaiswal',Ph_No='9118xxxx22')\n"
   ]
  },
  {
   "cell_type": "markdown",
   "id": "35113c77-f28d-4969-b97e-43b1b50963e9",
   "metadata": {},
   "source": [
    "Q3.  What is an iterator in python? Name the method used to initialise the iterator object and the method \n",
    "used for iteration. Use these methods to print the first five elements of the given list [2, 4, 6, 8, 10, 12, 14, \n",
    "16, 18, 20]."
   ]
  },
  {
   "cell_type": "code",
   "execution_count": 8,
   "id": "93840de5-7871-4016-b2a5-1453b54a5d2c",
   "metadata": {},
   "outputs": [
    {
     "name": "stdout",
     "output_type": "stream",
     "text": [
      "2\n",
      "4\n",
      "6\n",
      "8\n",
      "10\n"
     ]
    }
   ],
   "source": [
    "\n",
    "# An iterator is an object that contains a countable number of values.\n",
    "# iter() method is used to initialize the iterator object and \n",
    "# The next() method is used to iterate over the iterable objects. The next() method returns the next value in the iterable object.\n",
    "\n",
    "# by this methods to print the first five elements of the given list [2, 4, 6, 8, 10, 12, 14, 16, 18, 20]\n",
    "Num_list =[2, 4, 6, 8, 10, 12, 14, 16, 18, 20]\n",
    "num= iter(Num_list)\n",
    "print(next(num))\n",
    "print(next(num))\n",
    "print(next(num))\n",
    "print(next(num))\n",
    "print(next(num))"
   ]
  },
  {
   "cell_type": "markdown",
   "id": "4826e475-2e1c-4eb2-8638-1844243b56f2",
   "metadata": {},
   "source": [
    "Q4.  What is a generator function in python? Why yield keyword is used? Give an example of a generator \n",
    "function."
   ]
  },
  {
   "cell_type": "code",
   "execution_count": 9,
   "id": "b259cb59-d436-4d96-a00f-3ba7fad2fe6f",
   "metadata": {},
   "outputs": [
    {
     "name": "stdout",
     "output_type": "stream",
     "text": [
      "<generator object natural_num at 0x7fa466ca2260>\n",
      "1\n",
      "2\n",
      "3\n",
      "4\n",
      "5\n",
      "6\n",
      "7\n",
      "8\n",
      "9\n",
      "10\n"
     ]
    }
   ],
   "source": [
    "# In Python a generator is a function that returns an iterator that produces a sequence of values when iterated over\n",
    "# The yield keyword converts the expression given into a generator function that gives back a generator object.\n",
    "\n",
    "# Example\n",
    "def natural_num(n):\n",
    "    i= 1\n",
    "    while i<= 10:\n",
    "        yield i\n",
    "        i+=1\n",
    "print(natural_num(10))\n",
    "\n",
    "for i in natural_num(10):  #generator function call\n",
    "    print(i)"
   ]
  },
  {
   "cell_type": "markdown",
   "id": "67e10a7b-1985-41cc-8e94-b6b4276462f9",
   "metadata": {},
   "source": [
    "Q5. Create a generator function for prime numbers less than 1000. Use the next() method to print the \n",
    "first 20 prime numbers."
   ]
  },
  {
   "cell_type": "code",
   "execution_count": 10,
   "id": "99a3c451-959b-4076-a661-0429ff1b8b54",
   "metadata": {},
   "outputs": [
    {
     "name": "stdout",
     "output_type": "stream",
     "text": [
      "1\n",
      "2\n",
      "3\n"
     ]
    }
   ],
   "source": [
    "def getprimes():\n",
    "    prime=True\n",
    "    i=2\n",
    "    for i in range(1,1000):\n",
    "        for a in range(2,i):\n",
    "            if(i%a==0):\n",
    "                prime=False\n",
    "                break\n",
    "        if(prime==True):    \n",
    "            yield i\n",
    "        i+=1\n",
    "            \n",
    "m=list(getprimes())              \n",
    "for j in m:\n",
    "    print(j)\n"
   ]
  },
  {
   "cell_type": "markdown",
   "id": "3d1fedcf-c77a-410b-92d2-4caf68dce207",
   "metadata": {},
   "source": [
    "Q6. Write a python program to print the first 10 Fibonacci numbers using a while loop."
   ]
  },
  {
   "cell_type": "code",
   "execution_count": 11,
   "id": "711c932c-e892-4a79-b78f-7080967d95b6",
   "metadata": {},
   "outputs": [
    {
     "name": "stdout",
     "output_type": "stream",
     "text": [
      "0\n",
      "1\n",
      "1\n",
      "2\n",
      "3\n",
      "5\n",
      "8\n",
      "13\n",
      "21\n",
      "34\n"
     ]
    }
   ],
   "source": [
    "num=1\n",
    "a,b=0,1\n",
    "while num<=10:\n",
    "    print(a)\n",
    "    c=a+b\n",
    "    a=b\n",
    "    b=c\n",
    "    num+=1"
   ]
  },
  {
   "cell_type": "markdown",
   "id": "b6ec39b4-deda-4598-98bd-d052318222a6",
   "metadata": {},
   "source": [
    "Q7. Write a List Comprehension to iterate through the given string: ‘pwskills’.\n",
    "\n",
    "Expected output: ['p', 'w', 's', 'k', 'i', 'l', 'l', 's'] "
   ]
  },
  {
   "cell_type": "code",
   "execution_count": 12,
   "id": "0c7a7bc7-eebc-4090-a301-7178758d8b6a",
   "metadata": {},
   "outputs": [
    {
     "data": {
      "text/plain": [
       "['p', 'w', 's', 'k', 'i', 'l', 'l', 's']"
      ]
     },
     "execution_count": 12,
     "metadata": {},
     "output_type": "execute_result"
    }
   ],
   "source": [
    "s=\"pwskills\"\n",
    "list(s)"
   ]
  },
  {
   "cell_type": "code",
   "execution_count": 13,
   "id": "3dbdc238-d923-465a-b289-3dc126921435",
   "metadata": {},
   "outputs": [
    {
     "name": "stdin",
     "output_type": "stream",
     "text": [
      "enter a number 25252\n"
     ]
    },
    {
     "name": "stdout",
     "output_type": "stream",
     "text": [
      "this number is palindrome number\n"
     ]
    }
   ],
   "source": [
    "n=int(input(\"enter a number\"))\n",
    "temp=n\n",
    "reverse=0\n",
    "while n>0:\n",
    "    digit=n%10\n",
    "    reverse=reverse*10+digit\n",
    "    n=n//10\n",
    "if (temp==reverse):\n",
    "    print(\"this number is palindrome number\")\n",
    "else:\n",
    "    print(\"this number is not palindrome number\")\n",
    "        "
   ]
  },
  {
   "cell_type": "markdown",
   "id": "6ff14614-8431-4419-8f88-66432767f32a",
   "metadata": {},
   "source": [
    "Q9. Write a code to print odd numbers from 1 to 100 using list comprehension."
   ]
  },
  {
   "cell_type": "code",
   "execution_count": 16,
   "id": "e86fa671-0af2-490d-9dd3-9c0f811b2d76",
   "metadata": {},
   "outputs": [
    {
     "name": "stdout",
     "output_type": "stream",
     "text": [
      "[0, 1, 2, 3, 4, 5, 6, 7, 8, 9, 10, 11, 12, 13, 14, 15, 16, 17, 18, 19, 20, 21, 22, 23, 24, 25, 26, 27, 28, 29, 30, 31, 32, 33, 34, 35, 36, 37, 38, 39, 40, 41, 42, 43, 44, 45, 46, 47, 48, 49, 50, 51, 52, 53, 54, 55, 56, 57, 58, 59, 60, 61, 62, 63, 64, 65, 66, 67, 68, 69, 70, 71, 72, 73, 74, 75, 76, 77, 78, 79, 80, 81, 82, 83, 84, 85, 86, 87, 88, 89, 90, 91, 92, 93, 94, 95, 96, 97, 98, 99]\n",
      "\n",
      " [1, 3, 5, 7, 9, 11, 13, 15, 17, 19, 21, 23, 25, 27, 29, 31, 33, 35, 37, 39, 41, 43, 45, 47, 49, 51, 53, 55, 57, 59, 61, 63, 65, 67, 69, 71, 73, 75, 77, 79, 81, 83, 85, 87, 89, 91, 93, 95, 97, 99]\n"
     ]
    },
    {
     "data": {
      "text/plain": [
       "list"
      ]
     },
     "execution_count": 16,
     "metadata": {},
     "output_type": "execute_result"
    }
   ],
   "source": [
    "l=[]\n",
    "l1=[]\n",
    "i=1\n",
    "for i in range(100):\n",
    "    l.append(i)\n",
    "print(l)\n",
    "for j in l:\n",
    "    if(j%2!=0):\n",
    "        l1.append(j)\n",
    "print(\"\\n\",l1)        \n",
    "type(l)\n"
   ]
  },
  {
   "cell_type": "code",
   "execution_count": null,
   "id": "ec92831b-0e86-43b0-9514-cff2e9495b42",
   "metadata": {},
   "outputs": [],
   "source": []
  },
  {
   "cell_type": "code",
   "execution_count": null,
   "id": "bced0705-ce22-46f6-8485-8a7facf66920",
   "metadata": {},
   "outputs": [],
   "source": []
  }
 ],
 "metadata": {
  "kernelspec": {
   "display_name": "Python 3 (ipykernel)",
   "language": "python",
   "name": "python3"
  },
  "language_info": {
   "codemirror_mode": {
    "name": "ipython",
    "version": 3
   },
   "file_extension": ".py",
   "mimetype": "text/x-python",
   "name": "python",
   "nbconvert_exporter": "python",
   "pygments_lexer": "ipython3",
   "version": "3.10.8"
  }
 },
 "nbformat": 4,
 "nbformat_minor": 5
}
